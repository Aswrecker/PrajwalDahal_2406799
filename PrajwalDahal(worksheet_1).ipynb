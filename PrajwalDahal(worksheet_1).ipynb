{
  "nbformat": 4,
  "nbformat_minor": 0,
  "metadata": {
    "colab": {
      "provenance": []
    },
    "kernelspec": {
      "name": "python3",
      "display_name": "Python 3"
    },
    "language_info": {
      "name": "python"
    }
  },
  "cells": [
    {
      "cell_type": "code",
      "execution_count": null,
      "metadata": {
        "colab": {
          "base_uri": "https://localhost:8080/"
        },
        "id": "QPjp_19Pz3g8",
        "outputId": "289fcc90-0d0f-4d10-a6a6-cde85a430127"
      },
      "outputs": [
        {
          "output_type": "stream",
          "name": "stdout",
          "text": [
            "[[4.95410812e-310 0.00000000e+000]\n",
            " [1.17175679e+251 6.61469101e-310]]\n",
            "[[1. 1.]\n",
            " [1. 1.]\n",
            " [1. 1.]\n",
            " [1. 1.]]\n",
            "[[7 7 7]\n",
            " [7 7 7]\n",
            " [7 7 7]]\n",
            "[[0 0]\n",
            " [0 0]]\n",
            "[[1 1]\n",
            " [1 1]]\n",
            "[1 2 3 4]\n"
          ]
        }
      ],
      "source": [
        "import numpy as np\n",
        "\n",
        "empty_array = np.empty((2, 2))\n",
        "ones_array = np.ones((4, 2))\n",
        "filled_array = np.full((3, 3), 7)\n",
        "example_array = np.array([[1, 2], [3, 4]])\n",
        "zeros_like_array = np.zeros_like(example_array)\n",
        "ones_like_array = np.ones_like(example_array)\n",
        "new_list = [1, 2, 3, 4]\n",
        "numpy_array_from_list = np.array(new_list)\n",
        "\n",
        "print(empty_array)\n",
        "print(ones_array)\n",
        "print(filled_array)\n",
        "print(zeros_like_array)\n",
        "print(ones_like_array)\n",
        "print(numpy_array_from_list)\n"
      ]
    },
    {
      "cell_type": "code",
      "source": [
        "arr_range = np.arange(10, 50)\n",
        "matrix_3x3 = np.arange(9).reshape(3, 3)\n",
        "identity_matrix = np.eye(3)\n",
        "random_array = np.random.random(30)\n",
        "mean_random_array = random_array.mean()\n",
        "random_10x10 = np.random.random((10, 10))\n",
        "min_value = random_10x10.min()\n",
        "max_value = random_10x10.max()\n",
        "zero_array = np.zeros(10)\n",
        "zero_array[4] = 1\n",
        "arr = np.array([1, 2, 0, 0, 4, 0])\n",
        "reversed_arr = arr[::-1]\n",
        "border_array = np.ones((5, 5))\n",
        "border_array[1:-1, 1:-1] = 0\n",
        "checkerboard_pattern = np.zeros((8, 8))\n",
        "checkerboard_pattern[1::2, ::2] = 1\n",
        "checkerboard_pattern[::2, 1::2] = 1\n",
        "\n",
        "print(arr_range)\n",
        "print(matrix_3x3)\n",
        "print(identity_matrix)\n",
        "print(mean_random_array)\n",
        "print(min_value, max_value)\n",
        "print(zero_array)\n",
        "print(reversed_arr)\n",
        "print(border_array)\n",
        "print(checkerboard_pattern)\n"
      ],
      "metadata": {
        "colab": {
          "base_uri": "https://localhost:8080/"
        },
        "id": "i_o3kCRr3l6i",
        "outputId": "d48d32d7-d514-4f20-faec-f30d5bad2257"
      },
      "execution_count": null,
      "outputs": [
        {
          "output_type": "stream",
          "name": "stdout",
          "text": [
            "[10 11 12 13 14 15 16 17 18 19 20 21 22 23 24 25 26 27 28 29 30 31 32 33\n",
            " 34 35 36 37 38 39 40 41 42 43 44 45 46 47 48 49]\n",
            "[[0 1 2]\n",
            " [3 4 5]\n",
            " [6 7 8]]\n",
            "[[1. 0. 0.]\n",
            " [0. 1. 0.]\n",
            " [0. 0. 1.]]\n",
            "0.4519203517659598\n",
            "0.002598302451503609 0.99316605081856\n",
            "[0. 0. 0. 0. 1. 0. 0. 0. 0. 0.]\n",
            "[0 4 0 0 2 1]\n",
            "[[1. 1. 1. 1. 1.]\n",
            " [1. 0. 0. 0. 1.]\n",
            " [1. 0. 0. 0. 1.]\n",
            " [1. 0. 0. 0. 1.]\n",
            " [1. 1. 1. 1. 1.]]\n",
            "[[0. 1. 0. 1. 0. 1. 0. 1.]\n",
            " [1. 0. 1. 0. 1. 0. 1. 0.]\n",
            " [0. 1. 0. 1. 0. 1. 0. 1.]\n",
            " [1. 0. 1. 0. 1. 0. 1. 0.]\n",
            " [0. 1. 0. 1. 0. 1. 0. 1.]\n",
            " [1. 0. 1. 0. 1. 0. 1. 0.]\n",
            " [0. 1. 0. 1. 0. 1. 0. 1.]\n",
            " [1. 0. 1. 0. 1. 0. 1. 0.]]\n"
          ]
        }
      ]
    },
    {
      "cell_type": "code",
      "source": [
        "x = np.array([[1, 2], [3, 5]])\n",
        "y = np.array([[5, 6], [7, 8]])\n",
        "v = np.array([9, 10])\n",
        "w = np.array([11, 12])\n",
        "\n",
        "addition = x + y\n",
        "subtraction = x - y\n",
        "multiplication = x * 2\n",
        "squared_elements = np.square(x)\n",
        "dot_v_w = np.dot(v, w)\n",
        "dot_x_v = np.dot(x, v)\n",
        "dot_x_y = np.dot(x, y)\n",
        "concat_x_y = np.concatenate((x, y), axis=0)\n",
        "concat_v_w = np.concatenate((v.reshape(-1, 1), w.reshape(-1, 1)), axis=1)\n",
        "\n",
        "try:\n",
        "    concat_x_v = np.concatenate((x, v), axis=1)\n",
        "except Exception as e:\n",
        "    error_message = str(e)\n",
        "\n",
        "print(addition)\n",
        "print(subtraction)\n",
        "print(multiplication)\n",
        "print(squared_elements)\n",
        "print(dot_v_w, dot_x_v, dot_x_y)\n",
        "print(concat_x_y)\n",
        "print(concat_v_w)\n",
        "print(error_message)\n"
      ],
      "metadata": {
        "colab": {
          "base_uri": "https://localhost:8080/"
        },
        "id": "Njalaa-N3maA",
        "outputId": "260a044b-b051-4b36-8cf8-11559167752a"
      },
      "execution_count": null,
      "outputs": [
        {
          "output_type": "stream",
          "name": "stdout",
          "text": [
            "[[ 6  8]\n",
            " [10 13]]\n",
            "[[-4 -4]\n",
            " [-4 -3]]\n",
            "[[ 2  4]\n",
            " [ 6 10]]\n",
            "[[ 1  4]\n",
            " [ 9 25]]\n",
            "219 [29 77] [[19 22]\n",
            " [50 58]]\n",
            "[[1 2]\n",
            " [3 5]\n",
            " [5 6]\n",
            " [7 8]]\n",
            "[[ 9 11]\n",
            " [10 12]]\n",
            "all the input arrays must have same number of dimensions, but the array at index 0 has 2 dimension(s) and the array at index 1 has 1 dimension(s)\n"
          ]
        }
      ]
    },
    {
      "cell_type": "code",
      "source": [
        "A = np.array([[3, 4], [7, 8]])\n",
        "B = np.array([[5, 3], [2, 1]])\n",
        "\n",
        "A_inv = np.linalg.inv(A)\n",
        "identity_matrix = np.dot(A, A_inv)\n",
        "AB = np.dot(A, B)\n",
        "BA = np.dot(B, A)\n",
        "transpose_AB = np.transpose(AB)\n",
        "transpose_BT_AT = np.dot(np.transpose(B), np.transpose(A))\n",
        "\n",
        "A_eq = np.array([[2, -3, 1], [1, -1, 2], [3, 1, -1]])\n",
        "B_eq = np.array([-1, -3, 9])\n",
        "X = np.linalg.inv(A_eq).dot(B_eq)\n",
        "\n",
        "print(identity_matrix)\n",
        "print(AB)\n",
        "print(BA)\n",
        "print(transpose_AB)\n",
        "print(transpose_BT_AT)\n",
        "print(X)\n"
      ],
      "metadata": {
        "colab": {
          "base_uri": "https://localhost:8080/"
        },
        "id": "9PHj0yf53nBw",
        "outputId": "da3ec709-15ad-4b42-e98a-69921b5b7bf8"
      },
      "execution_count": null,
      "outputs": [
        {
          "output_type": "stream",
          "name": "stdout",
          "text": [
            "[[1.00000000e+00 0.00000000e+00]\n",
            " [1.77635684e-15 1.00000000e+00]]\n",
            "[[23 13]\n",
            " [51 29]]\n",
            "[[36 44]\n",
            " [13 16]]\n",
            "[[23 51]\n",
            " [13 29]]\n",
            "[[23 51]\n",
            " [13 29]]\n",
            "[ 2.  1. -2.]\n"
          ]
        }
      ]
    }
  ]
}